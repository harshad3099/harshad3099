{
  "nbformat": 4,
  "nbformat_minor": 0,
  "metadata": {
    "colab": {
      "name": "Greeks calculator for options.ipynb",
      "provenance": [],
      "collapsed_sections": [],
      "authorship_tag": "ABX9TyPsoHWkhZ5RS/8s3rjsjnnw",
      "include_colab_link": true
    },
    "kernelspec": {
      "name": "python3",
      "display_name": "Python 3"
    },
    "language_info": {
      "name": "python"
    }
  },
  "cells": [
    {
      "cell_type": "markdown",
      "metadata": {
        "id": "view-in-github",
        "colab_type": "text"
      },
      "source": [
        "<a href=\"https://colab.research.google.com/github/harshad3099/harshad3099/blob/main/Greeks_calculator_for_options.ipynb\" target=\"_parent\"><img src=\"https://colab.research.google.com/assets/colab-badge.svg\" alt=\"Open In Colab\"/></a>"
      ]
    },
    {
      "cell_type": "code",
      "metadata": {
        "colab": {
          "base_uri": "https://localhost:8080/"
        },
        "id": "QrXCcR3H4hiZ",
        "outputId": "9e6cd05e-0ab7-4a08-ebf7-57f8e0b20eb9"
      },
      "source": [
        "!pip install mibian"
      ],
      "execution_count": 4,
      "outputs": [
        {
          "output_type": "stream",
          "name": "stdout",
          "text": [
            "Collecting mibian\n",
            "  Downloading mibian-0.1.3.zip (4.3 kB)\n",
            "Building wheels for collected packages: mibian\n",
            "  Building wheel for mibian (setup.py) ... \u001b[?25l\u001b[?25hdone\n",
            "  Created wheel for mibian: filename=mibian-0.1.3-py3-none-any.whl size=4039 sha256=ea944349051b0b94ce818967aab5bf14b0a113397f58907b4e86e57b1672305d\n",
            "  Stored in directory: /root/.cache/pip/wheels/ca/3a/ab/f8d47298bb8e265ab161962217a1b4c80b7e0a6bc0b2abdfc2\n",
            "Successfully built mibian\n",
            "Installing collected packages: mibian\n",
            "Successfully installed mibian-0.1.3\n"
          ]
        }
      ]
    },
    {
      "cell_type": "code",
      "metadata": {
        "id": "LZ8Eu5AQ4oGW"
      },
      "source": [
        "import mibian\n",
        "from tabulate import tabulate"
      ],
      "execution_count": 5,
      "outputs": []
    },
    {
      "cell_type": "code",
      "metadata": {
        "id": "USBxhA_H5PY5"
      },
      "source": [
        "stock_price = 17895 \n",
        "strike_price = 17850\n",
        "interest_rate = 10\n",
        "days_to_expiry = 3\n",
        "volatility = 10.99"
      ],
      "execution_count": 22,
      "outputs": []
    },
    {
      "cell_type": "code",
      "metadata": {
        "id": "bEizKk8m5tcW"
      },
      "source": [
        "greeks = mibian.BS([stock_price, strike_price, interest_rate,days_to_expiry],volatility=volatility) \n"
      ],
      "execution_count": 23,
      "outputs": []
    },
    {
      "cell_type": "code",
      "metadata": {
        "colab": {
          "base_uri": "https://localhost:8080/"
        },
        "id": "4j0jcNCR6w-x",
        "outputId": "0427f345-82f6-4741-b55a-f13741d39c34"
      },
      "source": [
        "greeks.callRho"
      ],
      "execution_count": 24,
      "outputs": [
        {
          "output_type": "execute_result",
          "data": {
            "text/plain": [
              "0.9226224306787013"
            ]
          },
          "metadata": {},
          "execution_count": 24
        }
      ]
    },
    {
      "cell_type": "code",
      "metadata": {
        "colab": {
          "base_uri": "https://localhost:8080/"
        },
        "id": "SaqAEbXt65Pm",
        "outputId": "69fbbfb9-6592-4cfb-affe-d17db5f2f683"
      },
      "source": [
        "print (tabulate(\n",
        "    [\n",
        "     ['Delta',greeks.callDelta],\n",
        "     ['Gamma',greeks.gamma],\n",
        "     ['vega',greeks.vega],\n",
        "     ['Theta',greeks.callTheta],\n",
        "     ['Rho',greeks.callRho]\n",
        "    ],headers=['Greeks','value'],tablefmt='orgtbl'\n",
        "))\n",
        "print(\"\")\n",
        "print(\"the call price is:\",greeks.callPrice)"
      ],
      "execution_count": 25,
      "outputs": [
        {
          "output_type": "stream",
          "name": "stdout",
          "text": [
            "| Greeks   |        value |\n",
            "|----------+--------------|\n",
            "| Delta    |   0.63314    |\n",
            "| Gamma    |   0.00211173 |\n",
            "| vega     |   6.10839    |\n",
            "| Theta    | -14.264      |\n",
            "| Rho      |   0.922622   |\n",
            "\n",
            "the call price is: 104.79624462855463\n"
          ]
        }
      ]
    }
  ]
}